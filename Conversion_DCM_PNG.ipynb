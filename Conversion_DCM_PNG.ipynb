{
 "cells": [
  {
   "cell_type": "code",
   "execution_count": 1,
   "metadata": {
    "trusted": true
   },
   "outputs": [
    {
     "name": "stdout",
     "output_type": "stream",
     "text": [
      "Collecting pydicom\n",
      "  Using cached pydicom-3.0.1-py3-none-any.whl.metadata (9.4 kB)\n",
      "Collecting pillow\n",
      "  Using cached pillow-11.0.0-cp311-cp311-win_amd64.whl.metadata (9.3 kB)\n",
      "Using cached pydicom-3.0.1-py3-none-any.whl (2.4 MB)\n",
      "Using cached pillow-11.0.0-cp311-cp311-win_amd64.whl (2.6 MB)\n",
      "Installing collected packages: pydicom, pillow\n",
      "Successfully installed pillow-11.0.0 pydicom-3.0.1\n"
     ]
    },
    {
     "name": "stderr",
     "output_type": "stream",
     "text": [
      "\"apt-get\" no se reconoce como un comando interno o externo,\n",
      "programa o archivo por lotes ejecutable.\n"
     ]
    },
    {
     "name": "stdout",
     "output_type": "stream",
     "text": [
      "Collecting pylibjpeg\n",
      "  Downloading pylibjpeg-2.0.1-py3-none-any.whl.metadata (7.8 kB)\n",
      "Collecting pylibjpeg-libjpeg\n",
      "  Downloading pylibjpeg_libjpeg-2.3.0-cp311-cp311-win_amd64.whl.metadata (4.8 kB)\n",
      "Collecting pylibjpeg-openjpeg\n",
      "  Downloading pylibjpeg_openjpeg-2.4.0-cp311-cp311-win_amd64.whl.metadata (5.7 kB)\n",
      "Collecting numpy (from pylibjpeg)\n",
      "  Using cached numpy-2.1.3-cp311-cp311-win_amd64.whl.metadata (60 kB)\n",
      "Downloading pylibjpeg-2.0.1-py3-none-any.whl (24 kB)\n",
      "Downloading pylibjpeg_libjpeg-2.3.0-cp311-cp311-win_amd64.whl (744 kB)\n",
      "   ---------------------------------------- 0.0/744.1 kB ? eta -:--:--\n",
      "   -------------- ------------------------- 262.1/744.1 kB ? eta -:--:--\n",
      "   ---------------------------------------- 744.1/744.1 kB 2.6 MB/s eta 0:00:00\n",
      "Downloading pylibjpeg_openjpeg-2.4.0-cp311-cp311-win_amd64.whl (238 kB)\n",
      "Using cached numpy-2.1.3-cp311-cp311-win_amd64.whl (12.9 MB)\n",
      "Installing collected packages: numpy, pylibjpeg-openjpeg, pylibjpeg-libjpeg, pylibjpeg\n",
      "Successfully installed numpy-2.1.3 pylibjpeg-2.0.1 pylibjpeg-libjpeg-2.3.0 pylibjpeg-openjpeg-2.4.0\n",
      "Collecting dicomsdl\n",
      "  Using cached dicomsdl-0.109.3-cp311-cp311-win_amd64.whl.metadata (6.2 kB)\n",
      "Using cached dicomsdl-0.109.3-cp311-cp311-win_amd64.whl (926 kB)\n",
      "Installing collected packages: dicomsdl\n",
      "Successfully installed dicomsdl-0.109.3\n"
     ]
    }
   ],
   "source": [
    "!pip install pydicom pillow\n",
    "!apt-get install -y libgdcm-tools\n",
    "!pip install pylibjpeg pylibjpeg-libjpeg pylibjpeg-openjpeg\n",
    "!pip install dicomsdl"
   ]
  },
  {
   "cell_type": "code",
   "execution_count": null,
   "metadata": {
    "execution": {
     "iopub.execute_input": "2024-11-20T19:45:51.504811Z",
     "iopub.status.busy": "2024-11-20T19:45:51.504382Z",
     "iopub.status.idle": "2024-11-20T19:46:05.462876Z",
     "shell.execute_reply": "2024-11-20T19:46:05.461623Z",
     "shell.execute_reply.started": "2024-11-20T19:45:51.504762Z"
    },
    "trusted": true
   },
   "outputs": [],
   "source": [
    "import numpy as np\n",
    "import os\n",
    "from tqdm import tqdm  # Importar la versión de tqdm para notebooks\n",
    "from pathlib import Path\n",
    "import dicomsdl\n",
    "import multiprocessing as mp\n",
    "from PIL import Image\n",
    "import pandas as pd\n"
   ]
  },
  {
   "cell_type": "code",
   "execution_count": null,
   "metadata": {
    "trusted": true
   },
   "outputs": [],
   "source": [
    "\n",
    "RESIZE_TO = (512, 512)\n",
    "\n",
    "# Crear directorio de trabajo\n",
    "!rm -rf train_images_processed_cv2_dicomsdl_{RESIZE_TO[0]}\n",
    "!mkdir train_images_processed_cv2_dicomsdl_{RESIZE_TO[0]}\n",
    "\n",
    "def dicom_file_to_ary(path):\n",
    "    dcm_file = dicomsdl.open(str(path))\n",
    "    data = dcm_file.pixelData()\n",
    "\n",
    "    # Convertir explícitamente a un array de NumPy y verificar el tipo\n",
    "    data = np.array(data, dtype=np.float32)\n",
    "\n",
    "    if data.size == 0 or not isinstance(data, np.ndarray):\n",
    "        raise ValueError(f\"La imagen en {path} no contiene datos válidos para procesar o no es un array de NumPy.\")\n",
    "\n",
    "    # Verificar si el array es continuo en memoria\n",
    "    if not data.flags['C_CONTIGUOUS']:\n",
    "        data = np.ascontiguousarray(data)\n",
    "\n",
    "    # Asegurarse de que data sea 2D\n",
    "    if len(data.shape) != 2:\n",
    "        raise ValueError(f\"La imagen en {path} no es 2D y no se puede redimensionar con PIL. Forma actual: {data.shape}\")\n",
    "\n",
    "    # Normalizar y convertir a uint8 antes de redimensionar\n",
    "    data = (data - data.min()) / (data.max() - data.min())\n",
    "    data = (data * 255).astype(np.uint8)\n",
    "\n",
    "    # Usar PIL para redimensionar\n",
    "    try:\n",
    "        image = Image.fromarray(data)\n",
    "        image = image.resize(RESIZE_TO, Image.LANCZOS)\n",
    "        data_resized = np.array(image, dtype=np.uint8)  # Convertir explícitamente a uint8\n",
    "        data_resized = np.ascontiguousarray(data_resized)\n",
    "\n",
    "    except Exception as e:\n",
    "        print(f\"Error al redimensionar la imagen en {path} con PIL: {e}\")\n",
    "        raise\n",
    "\n",
    "    return data_resized\n",
    "\n",
    "def process_directory(directory_path):\n",
    "    parent_directory = str(directory_path).split('/')[-1]\n",
    "    output_dir = f'train_images_processed_cv2_dicomsdl_{RESIZE_TO[0]}/{parent_directory}'\n",
    "    os.makedirs(output_dir, exist_ok=True)\n",
    "    \n",
    "    image_paths = list(directory_path.iterdir())\n",
    "    \n",
    "    with tqdm(total=len(image_paths), desc=f'Procesando carpeta {parent_directory}', leave=False) as pbar:\n",
    "        for image_path in image_paths:\n",
    "            processed_ary = dicom_file_to_ary(image_path)\n",
    "            \n",
    "            # Guardar la imagen usando PIL\n",
    "            image_to_save = Image.fromarray(processed_ary)\n",
    "            image_to_save.save(f'{output_dir}/{image_path.stem}.png')\n",
    "            \n",
    "            pbar.update(1)\n",
    "\n"
   ]
  },
  {
   "cell_type": "code",
   "execution_count": null,
   "metadata": {},
   "outputs": [],
   "source": [
    "directories = list(Path('/kaggle/input/rsna-breast-cancer-detection/train_images').iterdir())"
   ]
  },
  {
   "cell_type": "code",
   "execution_count": null,
   "metadata": {},
   "outputs": [],
   "source": [
    "# Usar tqdm para monitorear el progreso general del procesamiento de directorios\n",
    "with mp.Pool(mp.cpu_count()) as pool:\n",
    "    for _ in tqdm(pool.imap_unordered(process_directory, directories), total=len(directories), desc=\"Progreso general de carpetas\"):\n",
    "        pass"
   ]
  },
  {
   "cell_type": "markdown",
   "metadata": {},
   "source": [
    "Completamos el df con la ubicación de cada imagen png"
   ]
  },
  {
   "cell_type": "code",
   "execution_count": 4,
   "metadata": {
    "execution": {
     "iopub.execute_input": "2024-11-20T19:46:10.817766Z",
     "iopub.status.busy": "2024-11-20T19:46:10.816542Z",
     "iopub.status.idle": "2024-11-20T19:46:11.037650Z",
     "shell.execute_reply": "2024-11-20T19:46:11.036633Z",
     "shell.execute_reply.started": "2024-11-20T19:46:10.817721Z"
    },
    "trusted": true
   },
   "outputs": [
    {
     "data": {
      "text/html": [
       "<div>\n",
       "<style scoped>\n",
       "    .dataframe tbody tr th:only-of-type {\n",
       "        vertical-align: middle;\n",
       "    }\n",
       "\n",
       "    .dataframe tbody tr th {\n",
       "        vertical-align: top;\n",
       "    }\n",
       "\n",
       "    .dataframe thead th {\n",
       "        text-align: right;\n",
       "    }\n",
       "</style>\n",
       "<table border=\"1\" class=\"dataframe\">\n",
       "  <thead>\n",
       "    <tr style=\"text-align: right;\">\n",
       "      <th></th>\n",
       "      <th>site_id</th>\n",
       "      <th>patient_id</th>\n",
       "      <th>image_id</th>\n",
       "      <th>laterality</th>\n",
       "      <th>view</th>\n",
       "      <th>age</th>\n",
       "      <th>cancer</th>\n",
       "      <th>biopsy</th>\n",
       "      <th>invasive</th>\n",
       "      <th>BIRADS</th>\n",
       "      <th>implant</th>\n",
       "      <th>density</th>\n",
       "      <th>machine_id</th>\n",
       "      <th>difficult_negative_case</th>\n",
       "      <th>img_path</th>\n",
       "    </tr>\n",
       "  </thead>\n",
       "  <tbody>\n",
       "    <tr>\n",
       "      <th>0</th>\n",
       "      <td>2</td>\n",
       "      <td>10006</td>\n",
       "      <td>462822612</td>\n",
       "      <td>L</td>\n",
       "      <td>CC</td>\n",
       "      <td>61.0</td>\n",
       "      <td>0</td>\n",
       "      <td>0</td>\n",
       "      <td>0</td>\n",
       "      <td>NaN</td>\n",
       "      <td>0</td>\n",
       "      <td>NaN</td>\n",
       "      <td>29</td>\n",
       "      <td>False</td>\n",
       "      <td>/kaggle/input/imagenes-png/kaggle/working/trai...</td>\n",
       "    </tr>\n",
       "    <tr>\n",
       "      <th>1</th>\n",
       "      <td>2</td>\n",
       "      <td>10006</td>\n",
       "      <td>1459541791</td>\n",
       "      <td>L</td>\n",
       "      <td>MLO</td>\n",
       "      <td>61.0</td>\n",
       "      <td>0</td>\n",
       "      <td>0</td>\n",
       "      <td>0</td>\n",
       "      <td>NaN</td>\n",
       "      <td>0</td>\n",
       "      <td>NaN</td>\n",
       "      <td>29</td>\n",
       "      <td>False</td>\n",
       "      <td>/kaggle/input/imagenes-png/kaggle/working/trai...</td>\n",
       "    </tr>\n",
       "    <tr>\n",
       "      <th>2</th>\n",
       "      <td>2</td>\n",
       "      <td>10006</td>\n",
       "      <td>1864590858</td>\n",
       "      <td>R</td>\n",
       "      <td>MLO</td>\n",
       "      <td>61.0</td>\n",
       "      <td>0</td>\n",
       "      <td>0</td>\n",
       "      <td>0</td>\n",
       "      <td>NaN</td>\n",
       "      <td>0</td>\n",
       "      <td>NaN</td>\n",
       "      <td>29</td>\n",
       "      <td>False</td>\n",
       "      <td>/kaggle/input/imagenes-png/kaggle/working/trai...</td>\n",
       "    </tr>\n",
       "  </tbody>\n",
       "</table>\n",
       "</div>"
      ],
      "text/plain": [
       "   site_id  patient_id    image_id laterality view   age  cancer  biopsy  \\\n",
       "0        2       10006   462822612          L   CC  61.0       0       0   \n",
       "1        2       10006  1459541791          L  MLO  61.0       0       0   \n",
       "2        2       10006  1864590858          R  MLO  61.0       0       0   \n",
       "\n",
       "   invasive  BIRADS  implant density  machine_id  difficult_negative_case  \\\n",
       "0         0     NaN        0     NaN          29                    False   \n",
       "1         0     NaN        0     NaN          29                    False   \n",
       "2         0     NaN        0     NaN          29                    False   \n",
       "\n",
       "                                            img_path  \n",
       "0  /kaggle/input/imagenes-png/kaggle/working/trai...  \n",
       "1  /kaggle/input/imagenes-png/kaggle/working/trai...  \n",
       "2  /kaggle/input/imagenes-png/kaggle/working/trai...  "
      ]
     },
     "metadata": {},
     "output_type": "display_data"
    }
   ],
   "source": [
    "train_df = pd.read_csv('/kaggle/input/rsna-breast-cancer-detection/train.csv')\n",
    "\n",
    "test_df = pd.read_csv('/kaggle/input/rsna-breast-cancer-detection/test.csv')\n",
    "\n",
    "\n",
    "base_path='/kaggle/input/imagenes-png/kaggle/working'\n",
    "\n",
    "# saving image path into train dataframe\n",
    "train_df['img_path']= f'{base_path}/train_images_processed_cv2_dicomsdl_512'\\\n",
    "                    + '/' + train_df.patient_id.astype(str)\\\n",
    "                    + '/' + train_df.image_id.astype(str)\\\n",
    "                    + '.png'\n",
    "\n",
    "\n",
    "\n",
    "display(train_df.head(3))"
   ]
  }
 ],
 "metadata": {
  "kaggle": {
   "accelerator": "none",
   "dataSources": [
    {
     "databundleVersionId": 4629629,
     "sourceId": 39272,
     "sourceType": "competition"
    },
    {
     "datasetId": 6115941,
     "sourceId": 9946052,
     "sourceType": "datasetVersion"
    }
   ],
   "dockerImageVersionId": 30786,
   "isGpuEnabled": false,
   "isInternetEnabled": true,
   "language": "python",
   "sourceType": "notebook"
  },
  "kernelspec": {
   "display_name": ".venv",
   "language": "python",
   "name": "python3"
  },
  "language_info": {
   "codemirror_mode": {
    "name": "ipython",
    "version": 3
   },
   "file_extension": ".py",
   "mimetype": "text/x-python",
   "name": "python",
   "nbconvert_exporter": "python",
   "pygments_lexer": "ipython3",
   "version": "3.11.7"
  }
 },
 "nbformat": 4,
 "nbformat_minor": 4
}
